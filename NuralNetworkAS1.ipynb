{
 "cells": [
  {
   "cell_type": "code",
   "execution_count": 3,
   "id": "f1f44bab-63ca-48ca-9ad7-c175ceba65f6",
   "metadata": {},
   "outputs": [
    {
     "name": "stdin",
     "output_type": "stream",
     "text": [
      "Enter the string: python\n"
     ]
    },
    {
     "name": "stdout",
     "output_type": "stream",
     "text": [
      "Sample output: ntyp\n"
     ]
    }
   ],
   "source": [
    "# Input the string as a list of characters\n",
    "original_string = list(input(\"Enter the string:\"))\n",
    "\n",
    "# Delete  2 characters\n",
    "if len(original_string) >=2:\n",
    "   del original_string[3:5]\n",
    "\n",
    "# Reverse the resultant string\n",
    "original_string.reverse()\n",
    "\n",
    "# Print the output\n",
    "print(\"Sample output:\", ''.join(original_string))\n"
   ]
  },
  {
   "cell_type": "code",
   "execution_count": 1,
   "id": "0adc3b54-f83a-4587-bc75-234853651d3d",
   "metadata": {},
   "outputs": [
    {
     "name": "stdin",
     "output_type": "stream",
     "text": [
      "Enter the 1St number: 20\n",
      "Enter the 2nd number: 5\n"
     ]
    },
    {
     "name": "stdout",
     "output_type": "stream",
     "text": [
      "Addition: 25.0\n",
      "Subtraction: 15.0\n",
      "Multiplication: 100.0\n",
      "Division: 4.0\n"
     ]
    }
   ],
   "source": [
    "#Input of two numbers from the user\n",
    "number1=float(input(\"Enter the 1St number:\"))\n",
    "number2=float(input(\"Enter the 2nd number:\"))\n",
    "\n",
    "#Arithmetic operations\n",
    "add=number1+number2\n",
    "sub=number1-number2\n",
    "multip=number1*number2\n",
    "\n",
    "if number2==0:\n",
    "   div=\"Division cannot be done by zero\"\n",
    "else:\n",
    "    div=number1/number2\n",
    "\n",
    "#Print the output\n",
    "print(\"Addition:\",add)\n",
    "print(\"Subtraction:\",sub)\n",
    "print(\"Multiplication:\",multip)\n",
    "print(\"Division:\",div)"
   ]
  },
  {
   "cell_type": "code",
   "execution_count": 5,
   "id": "e2914b18-bb47-4877-b983-b015ae952209",
   "metadata": {},
   "outputs": [
    {
     "name": "stdin",
     "output_type": "stream",
     "text": [
      "Enter a sentence:  i love python\n"
     ]
    },
    {
     "name": "stdout",
     "output_type": "stream",
     "text": [
      "Sample output: i love pythons\n"
     ]
    }
   ],
   "source": [
    "# Accept a sentence from the user\n",
    "input_sentence = input(\"Enter a sentence: \")\n",
    "\n",
    "# Replace 'python' with 'pythons'\n",
    "modified_sentence = input_sentence.replace('python', 'pythons')\n",
    "\n",
    "# Print the modified sentence\n",
    "print(\"Sample output:\", modified_sentence)\n"
   ]
  },
  {
   "cell_type": "code",
   "execution_count": 11,
   "id": "fff7ed81-654f-4115-8ba9-16158389eec8",
   "metadata": {},
   "outputs": [
    {
     "name": "stdin",
     "output_type": "stream",
     "text": [
      "Enter the marks: 32\n"
     ]
    },
    {
     "name": "stdout",
     "output_type": "stream",
     "text": [
      "Your grade is: F\n"
     ]
    }
   ],
   "source": [
    "#Calculating the grade\n",
    "\n",
    "def grade(marks):\n",
    "    if marks>=90:\n",
    "        return 'A'\n",
    "    elif marks>=80:\n",
    "        return 'B'\n",
    "    elif marks>=70:\n",
    "        return 'C'\n",
    "    elif marks>=60:\n",
    "        return 'D'\n",
    "    else:\n",
    "        return 'F'\n",
    "#Input the marks \n",
    "Sub_marks=int(input(\"Enter the marks:\"))\n",
    "\n",
    "#Grades print\n",
    "grd=grade(Sub_marks)\n",
    "print(\"Your grade is:\",grd)\n",
    "\n",
    "\n"
   ]
  },
  {
   "cell_type": "code",
   "execution_count": null,
   "id": "258f7101-9199-41ea-95ab-0a3c78189e6d",
   "metadata": {},
   "outputs": [],
   "source": []
  }
 ],
 "metadata": {
  "kernelspec": {
   "display_name": "Python 3 (ipykernel)",
   "language": "python",
   "name": "python3"
  },
  "language_info": {
   "codemirror_mode": {
    "name": "ipython",
    "version": 3
   },
   "file_extension": ".py",
   "mimetype": "text/x-python",
   "name": "python",
   "nbconvert_exporter": "python",
   "pygments_lexer": "ipython3",
   "version": "3.12.1"
  }
 },
 "nbformat": 4,
 "nbformat_minor": 5
}
